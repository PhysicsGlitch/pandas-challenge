{
 "cells": [
  {
   "cell_type": "markdown",
   "metadata": {},
   "source": [
    "### Note\n",
    "* Instructions have been included for each segment. You do not have to follow them exactly, but they are included to help you think through the steps."
   ]
  },
  {
   "cell_type": "code",
   "execution_count": 48,
   "metadata": {},
   "outputs": [],
   "source": [
    "# Dependencies and Setup\n",
    "import pandas as pd\n",
    "\n",
    "# File to Load (Remember to Change These)\n",
    "file_to_load = \"Resources/purchase_data.csv\"\n",
    "\n",
    "# Read Purchasing File and store into Pandas data frame\n",
    "purchase_data = pd.read_csv(file_to_load)"
   ]
  },
  {
   "cell_type": "markdown",
   "metadata": {},
   "source": [
    "## Player Count"
   ]
  },
  {
   "cell_type": "markdown",
   "metadata": {},
   "source": [
    "* Display the total number of players\n"
   ]
  },
  {
   "cell_type": "code",
   "execution_count": 49,
   "metadata": {},
   "outputs": [
    {
     "name": "stdout",
     "output_type": "stream",
     "text": [
      "Total Number of Players: 576\n"
     ]
    }
   ],
   "source": [
    "# To get total players I checked for unique SN (I assume that means screen name), by creating a list of unique players\n",
    "# and then applying .nunique to get the player count. I saw the homework returned this as a dataframe series, but I used the \n",
    "# number below in calculating percentages so it was easier to keep the value as an integer and just print a formatted string return. \n",
    "\n",
    "unique_players = purchase_data[\"SN\"].nunique()\n",
    "print(f\"Total Number of Players: {unique_players}\")"
   ]
  },
  {
   "cell_type": "markdown",
   "metadata": {},
   "source": [
    "## Purchasing Analysis (Total)"
   ]
  },
  {
   "cell_type": "markdown",
   "metadata": {},
   "source": [
    "* Run basic calculations to obtain number of unique items, average price, etc.\n",
    "\n",
    "\n",
    "* Create a summary data frame to hold the results\n",
    "\n",
    "\n",
    "* Optional: give the displayed data cleaner formatting\n",
    "\n",
    "\n",
    "* Display the summary data frame\n"
   ]
  },
  {
   "cell_type": "code",
   "execution_count": 108,
   "metadata": {
    "scrolled": true
   },
   "outputs": [
    {
     "data": {
      "text/html": [
       "<style  type=\"text/css\" >\n",
       "</style><table id=\"T_ab3b8390_c07c_11ea_b411_2cf05d0a8cfb\" ><thead>    <tr>        <th class=\"col_heading level0 col0\" >Number of Unique Items</th>        <th class=\"col_heading level0 col1\" >Average Price</th>        <th class=\"col_heading level0 col2\" >Number of Purchases</th>        <th class=\"col_heading level0 col3\" >Total Revenue</th>    </tr></thead><tbody>\n",
       "                <tr>\n",
       "                                <td id=\"T_ab3b8390_c07c_11ea_b411_2cf05d0a8cfbrow0_col0\" class=\"data row0 col0\" >179</td>\n",
       "                        <td id=\"T_ab3b8390_c07c_11ea_b411_2cf05d0a8cfbrow0_col1\" class=\"data row0 col1\" >$3.05</td>\n",
       "                        <td id=\"T_ab3b8390_c07c_11ea_b411_2cf05d0a8cfbrow0_col2\" class=\"data row0 col2\" >780</td>\n",
       "                        <td id=\"T_ab3b8390_c07c_11ea_b411_2cf05d0a8cfbrow0_col3\" class=\"data row0 col3\" >$2,379.77</td>\n",
       "            </tr>\n",
       "    </tbody></table>"
      ],
      "text/plain": [
       "<pandas.io.formats.style.Styler at 0x23c02059c88>"
      ]
     },
     "execution_count": 108,
     "metadata": {},
     "output_type": "execute_result"
    }
   ],
   "source": [
    "# The first four lines calculate the values and then the simplest way to display them into a table was just to create a new dataframe\n",
    "# I probably could have just transformed the dataframe and rename the columns as well, but because it was only 4 columns this was a quick\n",
    "# way to do it. In the following sections I use groupby and aggregate to show another way to do this that is simpler.\n",
    "\n",
    "unique_items = len(purchase_data[\"Item ID\"].unique())\n",
    "average_purchase = round(purchase_data[\"Price\"].mean(), 2)\n",
    "total_purchases = len(purchase_data)\n",
    "total_revenue = round(purchase_data[\"Price\"].sum(), 2)\n",
    "\n",
    "# Create a new data frame by creating a dictionary of the values and converting to dataframe. \n",
    "\n",
    "purchase_analysis = {\"Number of Unique Items\": unique_items, \"Average Price\": average_purchase,\n",
    "                     \"Number of Purchases\": total_purchases, \"Total Revenue\": total_revenue}\n",
    "purchasing_total = pd.DataFrame(purchase_analysis, columns = ['Number of Unique Items',\n",
    "                                                             'Average Price', 'Number of Purchases', 'Total Revenue'], index=[0])\n",
    "\n",
    "# This just adds the formatting of the dollars. I like keeping my dataframe unformatted because it is easier to work with the raw numbers\n",
    "# and then add the formatting when needed. Also, I'm pretty sure an apply or lambda could make these two lines into one. I noted to come back\n",
    "# to fix this if I have time. \n",
    "\n",
    "purchasing_total['Average Price'] = purchasing_total['Average Price'].map('${:,.2f}'.format)\n",
    "purchasing_total['Total Revenue'] = purchasing_total['Total Revenue'].map('${:,.2f}'.format)\n",
    "\n",
    "purchasing_total.style.hide_index()"
   ]
  },
  {
   "cell_type": "markdown",
   "metadata": {},
   "source": [
    "## Gender Demographics"
   ]
  },
  {
   "cell_type": "markdown",
   "metadata": {},
   "source": [
    "* Percentage and Count of Male Players\n",
    "\n",
    "\n",
    "* Percentage and Count of Female Players\n",
    "\n",
    "\n",
    "* Percentage and Count of Other / Non-Disclosed\n",
    "\n",
    "\n"
   ]
  },
  {
   "cell_type": "code",
   "execution_count": 51,
   "metadata": {},
   "outputs": [
    {
     "data": {
      "text/html": [
       "<style  type=\"text/css\" >\n",
       "</style><table id=\"T_06a911fa_c071_11ea_aeec_2cf05d0a8cfb\" ><thead>    <tr>        <th class=\"col_heading level0 col0\" >Gender</th>        <th class=\"col_heading level0 col1\" >Total Count</th>        <th class=\"col_heading level0 col2\" >Percentage of Players</th>    </tr></thead><tbody>\n",
       "                <tr>\n",
       "                                <td id=\"T_06a911fa_c071_11ea_aeec_2cf05d0a8cfbrow0_col0\" class=\"data row0 col0\" >Female</td>\n",
       "                        <td id=\"T_06a911fa_c071_11ea_aeec_2cf05d0a8cfbrow0_col1\" class=\"data row0 col1\" >81</td>\n",
       "                        <td id=\"T_06a911fa_c071_11ea_aeec_2cf05d0a8cfbrow0_col2\" class=\"data row0 col2\" >14.06%</td>\n",
       "            </tr>\n",
       "            <tr>\n",
       "                                <td id=\"T_06a911fa_c071_11ea_aeec_2cf05d0a8cfbrow1_col0\" class=\"data row1 col0\" >Male</td>\n",
       "                        <td id=\"T_06a911fa_c071_11ea_aeec_2cf05d0a8cfbrow1_col1\" class=\"data row1 col1\" >484</td>\n",
       "                        <td id=\"T_06a911fa_c071_11ea_aeec_2cf05d0a8cfbrow1_col2\" class=\"data row1 col2\" >84.03%</td>\n",
       "            </tr>\n",
       "            <tr>\n",
       "                                <td id=\"T_06a911fa_c071_11ea_aeec_2cf05d0a8cfbrow2_col0\" class=\"data row2 col0\" >Other / Non-Disclosed</td>\n",
       "                        <td id=\"T_06a911fa_c071_11ea_aeec_2cf05d0a8cfbrow2_col1\" class=\"data row2 col1\" >11</td>\n",
       "                        <td id=\"T_06a911fa_c071_11ea_aeec_2cf05d0a8cfbrow2_col2\" class=\"data row2 col2\" >1.91%</td>\n",
       "            </tr>\n",
       "    </tbody></table>"
      ],
      "text/plain": [
       "<pandas.io.formats.style.Styler at 0x23c01067148>"
      ]
     },
     "execution_count": 51,
     "metadata": {},
     "output_type": "execute_result"
    }
   ],
   "source": [
    "# This is relatively straightforward. Groupby and using nunique gets the unique number per gender. An apply and lambda combo then creates\n",
    "# a new colume called 'Percentage of Players' and dividing it by 'unique_players' calculated above will yield the percentages.\n",
    "# The final two lines of code just rename the columns because 'SN' is the value we aggregated over which is the total count and then I \n",
    "# formatted to percent as the final step. I also used style and hide_index to make it match the hw.\n",
    "\n",
    "gender_demo = purchase_data.groupby('Gender')['SN'].nunique().reset_index()\n",
    "gender_demo['Percentage of Players'] = gender_demo['SN'].apply(lambda x: x/unique_players)\n",
    "gender_demo.rename({'SN': 'Total Count'}, axis=1, inplace=True)\n",
    "gender_demo['Percentage of Players'] = gender_demo['Percentage of Players'].map('{0:,.2%}'.format)\n",
    "gender_demo.style.hide_index()"
   ]
  },
  {
   "cell_type": "markdown",
   "metadata": {},
   "source": [
    "\n",
    "## Purchasing Analysis (Gender)"
   ]
  },
  {
   "cell_type": "markdown",
   "metadata": {},
   "source": [
    "* Run basic calculations to obtain purchase count, avg. purchase price, avg. purchase total per person etc. by gender\n",
    "\n",
    "\n",
    "\n",
    "\n",
    "* Create a summary data frame to hold the results\n",
    "\n",
    "\n",
    "* Optional: give the displayed data cleaner formatting\n",
    "\n",
    "\n",
    "* Display the summary data frame"
   ]
  },
  {
   "cell_type": "code",
   "execution_count": 106,
   "metadata": {},
   "outputs": [
    {
     "data": {
      "text/html": [
       "<style  type=\"text/css\" >\n",
       "</style><table id=\"T_57496eca_c07a_11ea_a878_2cf05d0a8cfb\" ><thead>    <tr>        <th class=\"col_heading level0 col0\" >Gender</th>        <th class=\"col_heading level0 col1\" >Purchase Count</th>        <th class=\"col_heading level0 col2\" >Average Purchase Value</th>        <th class=\"col_heading level0 col3\" >Total Purchase Value</th>        <th class=\"col_heading level0 col4\" >Avg Total Purchase per Person</th>    </tr></thead><tbody>\n",
       "                <tr>\n",
       "                                <td id=\"T_57496eca_c07a_11ea_a878_2cf05d0a8cfbrow0_col0\" class=\"data row0 col0\" >Female</td>\n",
       "                        <td id=\"T_57496eca_c07a_11ea_a878_2cf05d0a8cfbrow0_col1\" class=\"data row0 col1\" >113</td>\n",
       "                        <td id=\"T_57496eca_c07a_11ea_a878_2cf05d0a8cfbrow0_col2\" class=\"data row0 col2\" >$3.20</td>\n",
       "                        <td id=\"T_57496eca_c07a_11ea_a878_2cf05d0a8cfbrow0_col3\" class=\"data row0 col3\" >$361.94</td>\n",
       "                        <td id=\"T_57496eca_c07a_11ea_a878_2cf05d0a8cfbrow0_col4\" class=\"data row0 col4\" >$4.47</td>\n",
       "            </tr>\n",
       "            <tr>\n",
       "                                <td id=\"T_57496eca_c07a_11ea_a878_2cf05d0a8cfbrow1_col0\" class=\"data row1 col0\" >Male</td>\n",
       "                        <td id=\"T_57496eca_c07a_11ea_a878_2cf05d0a8cfbrow1_col1\" class=\"data row1 col1\" >652</td>\n",
       "                        <td id=\"T_57496eca_c07a_11ea_a878_2cf05d0a8cfbrow1_col2\" class=\"data row1 col2\" >$3.02</td>\n",
       "                        <td id=\"T_57496eca_c07a_11ea_a878_2cf05d0a8cfbrow1_col3\" class=\"data row1 col3\" >$1,967.64</td>\n",
       "                        <td id=\"T_57496eca_c07a_11ea_a878_2cf05d0a8cfbrow1_col4\" class=\"data row1 col4\" >$4.07</td>\n",
       "            </tr>\n",
       "            <tr>\n",
       "                                <td id=\"T_57496eca_c07a_11ea_a878_2cf05d0a8cfbrow2_col0\" class=\"data row2 col0\" >Other / Non-Disclosed</td>\n",
       "                        <td id=\"T_57496eca_c07a_11ea_a878_2cf05d0a8cfbrow2_col1\" class=\"data row2 col1\" >15</td>\n",
       "                        <td id=\"T_57496eca_c07a_11ea_a878_2cf05d0a8cfbrow2_col2\" class=\"data row2 col2\" >$3.35</td>\n",
       "                        <td id=\"T_57496eca_c07a_11ea_a878_2cf05d0a8cfbrow2_col3\" class=\"data row2 col3\" >$50.19</td>\n",
       "                        <td id=\"T_57496eca_c07a_11ea_a878_2cf05d0a8cfbrow2_col4\" class=\"data row2 col4\" >$4.56</td>\n",
       "            </tr>\n",
       "    </tbody></table>"
      ],
      "text/plain": [
       "<pandas.io.formats.style.Styler at 0x23c0205d4c8>"
      ]
     },
     "execution_count": 106,
     "metadata": {},
     "output_type": "execute_result"
    }
   ],
   "source": [
    "# This analysis just applies the same processes as above. I know the instructions said to run the calculations and then create a summary \n",
    "# data frame, but I didn't see the need since I could just use .agg to calculate all my values which seemed cleaner and took fewer lines \n",
    "# of code. So I grouped by gender and then ran my aggregations: count of Purchase ID gives number of purchases, summing Price gives TPV, mean of Price\n",
    "# gives the avg and then I just had to divide TPV by the count of unique players to get average per player. I used apply and lambda as above to get that value\n",
    "# The last lines just format correctly.\n",
    "\n",
    "gender_purchase = purchase_data.groupby('Gender').agg({'SN': 'nunique', 'Purchase ID': 'count', 'Price': ['mean','sum']}).reset_index()\n",
    "\n",
    "# To avoid plagiarism, I used this StackOverflow https://stackoverflow.com/questions/50571793/concise-way-of-flattening-multiindex-columns\n",
    "# By aggregating over price multiple ways Pandas creates a multindex, so I needed to flatten the index using .to_flat_index()\n",
    "# to get only one index and then I rename the column names at the end.\n",
    "\n",
    "gender_purchase.columns = gender_purchase.columns = [f\"{x}_{y}\" for x, y in gender_purchase.columns.to_flat_index()]\n",
    "\n",
    "# This line was a bit cumbersome. But it was unclear whether I should divide the average purchase value by purchase per gender or by unique gender. The first would just give\n",
    "# Average purchase value again so I assumed the second and it matched the homework example. But I recalculated the number of unique players by gender and then deleted the column\n",
    "# after I used those values to get the Avg total purchase per person. I think I would need to define a lambda function to access values from another data frame, so this was a bit\n",
    "# of a hack, but not too bad to get the one value. \n",
    "\n",
    "gender_purchase['Avg Total Purchase per Person'] = gender_purchase.apply(lambda x: x['Price_sum']/x['SN_nunique'], axis=1)\n",
    "del gender_purchase['SN_nunique']\n",
    "\n",
    "# Rename column headers and format to dollar format\n",
    "gender_purchase.rename({'Gender_': 'Gender', 'Purchase ID_count': 'Purchase Count', 'Price_mean': 'Average Purchase Value', 'Price_sum': 'Total Purchase Value'}, axis=1, inplace=True)\n",
    "gender_purchase['Average Purchase Value'] = gender_purchase['Average Purchase Value'].map('${:,.2f}'.format)\n",
    "gender_purchase['Avg Total Purchase per Person'] = gender_purchase['Avg Total Purchase per Person'].map('${:,.2f}'.format)\n",
    "gender_purchase['Total Purchase Value'] = gender_purchase['Total Purchase Value'].map('${:,.2f}'.format)\n",
    "gender_purchase['Gender'] = gender_purchase['Gender'].map()\n",
    "# This just hides the index to make it match the format in the readme as above.\n",
    "gender_purchase.style\\\n",
    "        .hide_index()\\\n",
    "        #.apply('font-weight: bold')\n",
    "#.apply.(\"{:.2%}\".format, subset=gender_purchase['Total Purchase Vale'], axis=0)\\\n",
    "    "
   ]
  },
  {
   "cell_type": "markdown",
   "metadata": {},
   "source": [
    "## Age Demographics"
   ]
  },
  {
   "cell_type": "markdown",
   "metadata": {},
   "source": [
    "* Establish bins for ages\n",
    "\n",
    "\n",
    "* Categorize the existing players using the age bins. Hint: use pd.cut()\n",
    "\n",
    "\n",
    "* Calculate the numbers and percentages by age group\n",
    "\n",
    "\n",
    "* Create a summary data frame to hold the results\n",
    "\n",
    "\n",
    "* Optional: round the percentage column to two decimal points\n",
    "\n",
    "\n",
    "* Display Age Demographics Table\n"
   ]
  },
  {
   "cell_type": "code",
   "execution_count": 110,
   "metadata": {},
   "outputs": [
    {
     "data": {
      "text/html": [
       "<style  type=\"text/css\" >\n",
       "</style><table id=\"T_302954ec_c081_11ea_9792_2cf05d0a8cfb\" ><thead>    <tr>        <th class=\"col_heading level0 col0\" >Age Bracket</th>        <th class=\"col_heading level0 col1\" >Total Count</th>        <th class=\"col_heading level0 col2\" >Percentage of Players</th>    </tr></thead><tbody>\n",
       "                <tr>\n",
       "                                <td id=\"T_302954ec_c081_11ea_9792_2cf05d0a8cfbrow0_col0\" class=\"data row0 col0\" ><10</td>\n",
       "                        <td id=\"T_302954ec_c081_11ea_9792_2cf05d0a8cfbrow0_col1\" class=\"data row0 col1\" >17</td>\n",
       "                        <td id=\"T_302954ec_c081_11ea_9792_2cf05d0a8cfbrow0_col2\" class=\"data row0 col2\" >2.95%</td>\n",
       "            </tr>\n",
       "            <tr>\n",
       "                                <td id=\"T_302954ec_c081_11ea_9792_2cf05d0a8cfbrow1_col0\" class=\"data row1 col0\" >10-14</td>\n",
       "                        <td id=\"T_302954ec_c081_11ea_9792_2cf05d0a8cfbrow1_col1\" class=\"data row1 col1\" >22</td>\n",
       "                        <td id=\"T_302954ec_c081_11ea_9792_2cf05d0a8cfbrow1_col2\" class=\"data row1 col2\" >3.82%</td>\n",
       "            </tr>\n",
       "            <tr>\n",
       "                                <td id=\"T_302954ec_c081_11ea_9792_2cf05d0a8cfbrow2_col0\" class=\"data row2 col0\" >15-19</td>\n",
       "                        <td id=\"T_302954ec_c081_11ea_9792_2cf05d0a8cfbrow2_col1\" class=\"data row2 col1\" >107</td>\n",
       "                        <td id=\"T_302954ec_c081_11ea_9792_2cf05d0a8cfbrow2_col2\" class=\"data row2 col2\" >18.58%</td>\n",
       "            </tr>\n",
       "            <tr>\n",
       "                                <td id=\"T_302954ec_c081_11ea_9792_2cf05d0a8cfbrow3_col0\" class=\"data row3 col0\" >20-24</td>\n",
       "                        <td id=\"T_302954ec_c081_11ea_9792_2cf05d0a8cfbrow3_col1\" class=\"data row3 col1\" >258</td>\n",
       "                        <td id=\"T_302954ec_c081_11ea_9792_2cf05d0a8cfbrow3_col2\" class=\"data row3 col2\" >44.79%</td>\n",
       "            </tr>\n",
       "            <tr>\n",
       "                                <td id=\"T_302954ec_c081_11ea_9792_2cf05d0a8cfbrow4_col0\" class=\"data row4 col0\" >25-29</td>\n",
       "                        <td id=\"T_302954ec_c081_11ea_9792_2cf05d0a8cfbrow4_col1\" class=\"data row4 col1\" >77</td>\n",
       "                        <td id=\"T_302954ec_c081_11ea_9792_2cf05d0a8cfbrow4_col2\" class=\"data row4 col2\" >13.37%</td>\n",
       "            </tr>\n",
       "            <tr>\n",
       "                                <td id=\"T_302954ec_c081_11ea_9792_2cf05d0a8cfbrow5_col0\" class=\"data row5 col0\" >30-34</td>\n",
       "                        <td id=\"T_302954ec_c081_11ea_9792_2cf05d0a8cfbrow5_col1\" class=\"data row5 col1\" >52</td>\n",
       "                        <td id=\"T_302954ec_c081_11ea_9792_2cf05d0a8cfbrow5_col2\" class=\"data row5 col2\" >9.03%</td>\n",
       "            </tr>\n",
       "            <tr>\n",
       "                                <td id=\"T_302954ec_c081_11ea_9792_2cf05d0a8cfbrow6_col0\" class=\"data row6 col0\" >35-39</td>\n",
       "                        <td id=\"T_302954ec_c081_11ea_9792_2cf05d0a8cfbrow6_col1\" class=\"data row6 col1\" >31</td>\n",
       "                        <td id=\"T_302954ec_c081_11ea_9792_2cf05d0a8cfbrow6_col2\" class=\"data row6 col2\" >5.38%</td>\n",
       "            </tr>\n",
       "            <tr>\n",
       "                                <td id=\"T_302954ec_c081_11ea_9792_2cf05d0a8cfbrow7_col0\" class=\"data row7 col0\" >40+</td>\n",
       "                        <td id=\"T_302954ec_c081_11ea_9792_2cf05d0a8cfbrow7_col1\" class=\"data row7 col1\" >12</td>\n",
       "                        <td id=\"T_302954ec_c081_11ea_9792_2cf05d0a8cfbrow7_col2\" class=\"data row7 col2\" >2.08%</td>\n",
       "            </tr>\n",
       "    </tbody></table>"
      ],
      "text/plain": [
       "<pandas.io.formats.style.Styler at 0x23c02030248>"
      ]
     },
     "execution_count": 110,
     "metadata": {},
     "output_type": "execute_result"
    }
   ],
   "source": [
    "# Binning using pd.cut is fairly straight forward. I just define my bins, add labels and then create a new column in the df with these values. Then I can groupby this \n",
    "# new value and use the same techniques as above to calculate the necessary values.\n",
    "\n",
    "bins = [0, 9, 14, 19, 24, 29, 34, 39, 100] \n",
    "group_names = ['<10', '10-14', '15-19', '20-24', '25-29', '30-34', '35-39', '40+'] \n",
    "\n",
    "purchase_data['Age Bracket'] = pd.cut(purchase_data[\"Age\"], bins, labels=group_names)\n",
    "age_demo = purchase_data.groupby('Age Bracket')['SN'].nunique().reset_index()\n",
    "age_demo.rename({'SN': 'Total Count'}, axis=1, inplace=True)\n",
    "age_demo['Percentage of Players'] = age_demo['Total Count'].apply(lambda row: row/unique_players)\n",
    "age_demo['Percentage of Players'] = age_demo['Percentage of Players'].map('{0:,.2%}'.format)\n",
    "age_demo.style.hide_index()"
   ]
  },
  {
   "cell_type": "markdown",
   "metadata": {},
   "source": [
    "## Purchasing Analysis (Age)"
   ]
  },
  {
   "cell_type": "markdown",
   "metadata": {},
   "source": [
    "* Bin the purchase_data data frame by age\n",
    "\n",
    "\n",
    "* Run basic calculations to obtain purchase count, avg. purchase price, avg. purchase total per person etc. in the table below\n",
    "\n",
    "\n",
    "* Create a summary data frame to hold the results\n",
    "\n",
    "\n",
    "* Optional: give the displayed data cleaner formatting\n",
    "\n",
    "\n",
    "* Display the summary data frame"
   ]
  },
  {
   "cell_type": "code",
   "execution_count": 76,
   "metadata": {},
   "outputs": [
    {
     "data": {
      "text/html": [
       "<style  type=\"text/css\" >\n",
       "</style><table id=\"T_241037b4_c073_11ea_9a1d_2cf05d0a8cfb\" ><thead>    <tr>        <th class=\"col_heading level0 col0\" >Age Bracket</th>        <th class=\"col_heading level0 col1\" >Purchase Count</th>        <th class=\"col_heading level0 col2\" >Average Purchase Value</th>        <th class=\"col_heading level0 col3\" >Total Purchase Value</th>        <th class=\"col_heading level0 col4\" >Avg Total Purchase per Person</th>    </tr></thead><tbody>\n",
       "                <tr>\n",
       "                                <td id=\"T_241037b4_c073_11ea_9a1d_2cf05d0a8cfbrow0_col0\" class=\"data row0 col0\" ><10</td>\n",
       "                        <td id=\"T_241037b4_c073_11ea_9a1d_2cf05d0a8cfbrow0_col1\" class=\"data row0 col1\" >23</td>\n",
       "                        <td id=\"T_241037b4_c073_11ea_9a1d_2cf05d0a8cfbrow0_col2\" class=\"data row0 col2\" >$3.35</td>\n",
       "                        <td id=\"T_241037b4_c073_11ea_9a1d_2cf05d0a8cfbrow0_col3\" class=\"data row0 col3\" >$77.13</td>\n",
       "                        <td id=\"T_241037b4_c073_11ea_9a1d_2cf05d0a8cfbrow0_col4\" class=\"data row0 col4\" >$4.54</td>\n",
       "            </tr>\n",
       "            <tr>\n",
       "                                <td id=\"T_241037b4_c073_11ea_9a1d_2cf05d0a8cfbrow1_col0\" class=\"data row1 col0\" >10-14</td>\n",
       "                        <td id=\"T_241037b4_c073_11ea_9a1d_2cf05d0a8cfbrow1_col1\" class=\"data row1 col1\" >28</td>\n",
       "                        <td id=\"T_241037b4_c073_11ea_9a1d_2cf05d0a8cfbrow1_col2\" class=\"data row1 col2\" >$2.96</td>\n",
       "                        <td id=\"T_241037b4_c073_11ea_9a1d_2cf05d0a8cfbrow1_col3\" class=\"data row1 col3\" >$82.78</td>\n",
       "                        <td id=\"T_241037b4_c073_11ea_9a1d_2cf05d0a8cfbrow1_col4\" class=\"data row1 col4\" >$3.76</td>\n",
       "            </tr>\n",
       "            <tr>\n",
       "                                <td id=\"T_241037b4_c073_11ea_9a1d_2cf05d0a8cfbrow2_col0\" class=\"data row2 col0\" >15-19</td>\n",
       "                        <td id=\"T_241037b4_c073_11ea_9a1d_2cf05d0a8cfbrow2_col1\" class=\"data row2 col1\" >136</td>\n",
       "                        <td id=\"T_241037b4_c073_11ea_9a1d_2cf05d0a8cfbrow2_col2\" class=\"data row2 col2\" >$3.04</td>\n",
       "                        <td id=\"T_241037b4_c073_11ea_9a1d_2cf05d0a8cfbrow2_col3\" class=\"data row2 col3\" >$412.89</td>\n",
       "                        <td id=\"T_241037b4_c073_11ea_9a1d_2cf05d0a8cfbrow2_col4\" class=\"data row2 col4\" >$3.86</td>\n",
       "            </tr>\n",
       "            <tr>\n",
       "                                <td id=\"T_241037b4_c073_11ea_9a1d_2cf05d0a8cfbrow3_col0\" class=\"data row3 col0\" >20-24</td>\n",
       "                        <td id=\"T_241037b4_c073_11ea_9a1d_2cf05d0a8cfbrow3_col1\" class=\"data row3 col1\" >365</td>\n",
       "                        <td id=\"T_241037b4_c073_11ea_9a1d_2cf05d0a8cfbrow3_col2\" class=\"data row3 col2\" >$3.05</td>\n",
       "                        <td id=\"T_241037b4_c073_11ea_9a1d_2cf05d0a8cfbrow3_col3\" class=\"data row3 col3\" >$1,114.06</td>\n",
       "                        <td id=\"T_241037b4_c073_11ea_9a1d_2cf05d0a8cfbrow3_col4\" class=\"data row3 col4\" >$4.32</td>\n",
       "            </tr>\n",
       "            <tr>\n",
       "                                <td id=\"T_241037b4_c073_11ea_9a1d_2cf05d0a8cfbrow4_col0\" class=\"data row4 col0\" >25-29</td>\n",
       "                        <td id=\"T_241037b4_c073_11ea_9a1d_2cf05d0a8cfbrow4_col1\" class=\"data row4 col1\" >101</td>\n",
       "                        <td id=\"T_241037b4_c073_11ea_9a1d_2cf05d0a8cfbrow4_col2\" class=\"data row4 col2\" >$2.90</td>\n",
       "                        <td id=\"T_241037b4_c073_11ea_9a1d_2cf05d0a8cfbrow4_col3\" class=\"data row4 col3\" >$293.00</td>\n",
       "                        <td id=\"T_241037b4_c073_11ea_9a1d_2cf05d0a8cfbrow4_col4\" class=\"data row4 col4\" >$3.81</td>\n",
       "            </tr>\n",
       "            <tr>\n",
       "                                <td id=\"T_241037b4_c073_11ea_9a1d_2cf05d0a8cfbrow5_col0\" class=\"data row5 col0\" >30-34</td>\n",
       "                        <td id=\"T_241037b4_c073_11ea_9a1d_2cf05d0a8cfbrow5_col1\" class=\"data row5 col1\" >73</td>\n",
       "                        <td id=\"T_241037b4_c073_11ea_9a1d_2cf05d0a8cfbrow5_col2\" class=\"data row5 col2\" >$2.93</td>\n",
       "                        <td id=\"T_241037b4_c073_11ea_9a1d_2cf05d0a8cfbrow5_col3\" class=\"data row5 col3\" >$214.00</td>\n",
       "                        <td id=\"T_241037b4_c073_11ea_9a1d_2cf05d0a8cfbrow5_col4\" class=\"data row5 col4\" >$4.12</td>\n",
       "            </tr>\n",
       "            <tr>\n",
       "                                <td id=\"T_241037b4_c073_11ea_9a1d_2cf05d0a8cfbrow6_col0\" class=\"data row6 col0\" >35-39</td>\n",
       "                        <td id=\"T_241037b4_c073_11ea_9a1d_2cf05d0a8cfbrow6_col1\" class=\"data row6 col1\" >41</td>\n",
       "                        <td id=\"T_241037b4_c073_11ea_9a1d_2cf05d0a8cfbrow6_col2\" class=\"data row6 col2\" >$3.60</td>\n",
       "                        <td id=\"T_241037b4_c073_11ea_9a1d_2cf05d0a8cfbrow6_col3\" class=\"data row6 col3\" >$147.67</td>\n",
       "                        <td id=\"T_241037b4_c073_11ea_9a1d_2cf05d0a8cfbrow6_col4\" class=\"data row6 col4\" >$4.76</td>\n",
       "            </tr>\n",
       "            <tr>\n",
       "                                <td id=\"T_241037b4_c073_11ea_9a1d_2cf05d0a8cfbrow7_col0\" class=\"data row7 col0\" >40+</td>\n",
       "                        <td id=\"T_241037b4_c073_11ea_9a1d_2cf05d0a8cfbrow7_col1\" class=\"data row7 col1\" >13</td>\n",
       "                        <td id=\"T_241037b4_c073_11ea_9a1d_2cf05d0a8cfbrow7_col2\" class=\"data row7 col2\" >$2.94</td>\n",
       "                        <td id=\"T_241037b4_c073_11ea_9a1d_2cf05d0a8cfbrow7_col3\" class=\"data row7 col3\" >$38.24</td>\n",
       "                        <td id=\"T_241037b4_c073_11ea_9a1d_2cf05d0a8cfbrow7_col4\" class=\"data row7 col4\" >$3.19</td>\n",
       "            </tr>\n",
       "    </tbody></table>"
      ],
      "text/plain": [
       "<pandas.io.formats.style.Styler at 0x23c011c1b88>"
      ]
     },
     "execution_count": 76,
     "metadata": {},
     "output_type": "execute_result"
    }
   ],
   "source": [
    "# The only difference in this section is that binning needs to be done before doing the same process in the gender analysis to derive the same values. In retrospect, I\n",
    "# realized I should have just defined a function that automates this process. I realized I committed the error of DRY (don't repeat yourself), and that writing a function\n",
    "# such as def analysis(groupby_category, column_vales): could have been done to save many lines of code in this homework. But since I'm learning, rewriting was helpful to \n",
    "# remember the code. \n",
    "\n",
    "bins = [0, 9, 14, 19, 24, 29, 34, 39, 100] \n",
    "group_names = ['<10', '10-14', '15-19', '20-24', '25-29', '30-34', '35-39', '40+'] \n",
    "\n",
    "purchase_data['Age Bracket'] = pd.cut(purchase_data[\"Age\"], bins, labels=group_names)\n",
    "age_purchase = purchase_data.groupby('Age Bracket').agg({'SN': 'nunique', 'Purchase ID': 'count', 'Price': ['mean','sum']}).reset_index()\n",
    "age_purchase.columns = age_purchase.columns = [f\"{x}_{y}\" for x, y in age_purchase.columns.to_flat_index()]\n",
    "age_purchase['Avg Total Purchase per Person'] = age_purchase.apply(lambda x: x['Price_sum']/x['SN_nunique'], axis=1)\n",
    "del age_purchase['SN_nunique']\n",
    "age_purchase.rename({'Age Bracket_': 'Age Bracket', 'SN_nunique': 'Total Count', 'Purchase ID_count': 'Purchase Count', 'Price_mean': 'Average Purchase Value', 'Price_sum': 'Total Purchase Value'}, axis=1, inplace=True)\n",
    "age_purchase['Average Purchase Value'] = age_purchase['Average Purchase Value'].map('${:,.2f}'.format)\n",
    "age_purchase['Total Purchase Value'] = age_purchase['Total Purchase Value'].map('${:,.2f}'.format)\n",
    "age_purchase['Avg Total Purchase per Person'] = age_purchase['Avg Total Purchase per Person'].map('${:,.2f}'.format)\n",
    "\n",
    "age_purchase.style.hide_index()"
   ]
  },
  {
   "cell_type": "markdown",
   "metadata": {},
   "source": [
    "## Top Spenders"
   ]
  },
  {
   "cell_type": "markdown",
   "metadata": {},
   "source": [
    "* Run basic calculations to obtain the results in the table below\n",
    "\n",
    "\n",
    "* Create a summary data frame to hold the results\n",
    "\n",
    "\n",
    "* Sort the total purchase value column in descending order\n",
    "\n",
    "\n",
    "* Optional: give the displayed data cleaner formatting\n",
    "\n",
    "\n",
    "* Display a preview of the summary data frame\n",
    "\n"
   ]
  },
  {
   "cell_type": "code",
   "execution_count": 112,
   "metadata": {},
   "outputs": [
    {
     "data": {
      "text/html": [
       "<style  type=\"text/css\" >\n",
       "</style><table id=\"T_e30ba588_c081_11ea_94b0_2cf05d0a8cfb\" ><thead>    <tr>        <th class=\"col_heading level0 col0\" >SN</th>        <th class=\"col_heading level0 col1\" >Purchase Count</th>        <th class=\"col_heading level0 col2\" >Average Purchase Price</th>        <th class=\"col_heading level0 col3\" >Total Purchase Value</th>    </tr></thead><tbody>\n",
       "                <tr>\n",
       "                                <td id=\"T_e30ba588_c081_11ea_94b0_2cf05d0a8cfbrow0_col0\" class=\"data row0 col0\" >Lisosia93</td>\n",
       "                        <td id=\"T_e30ba588_c081_11ea_94b0_2cf05d0a8cfbrow0_col1\" class=\"data row0 col1\" >5</td>\n",
       "                        <td id=\"T_e30ba588_c081_11ea_94b0_2cf05d0a8cfbrow0_col2\" class=\"data row0 col2\" >$3.79</td>\n",
       "                        <td id=\"T_e30ba588_c081_11ea_94b0_2cf05d0a8cfbrow0_col3\" class=\"data row0 col3\" >$18.96</td>\n",
       "            </tr>\n",
       "            <tr>\n",
       "                                <td id=\"T_e30ba588_c081_11ea_94b0_2cf05d0a8cfbrow1_col0\" class=\"data row1 col0\" >Idastidru52</td>\n",
       "                        <td id=\"T_e30ba588_c081_11ea_94b0_2cf05d0a8cfbrow1_col1\" class=\"data row1 col1\" >4</td>\n",
       "                        <td id=\"T_e30ba588_c081_11ea_94b0_2cf05d0a8cfbrow1_col2\" class=\"data row1 col2\" >$3.86</td>\n",
       "                        <td id=\"T_e30ba588_c081_11ea_94b0_2cf05d0a8cfbrow1_col3\" class=\"data row1 col3\" >$15.45</td>\n",
       "            </tr>\n",
       "            <tr>\n",
       "                                <td id=\"T_e30ba588_c081_11ea_94b0_2cf05d0a8cfbrow2_col0\" class=\"data row2 col0\" >Chamjask73</td>\n",
       "                        <td id=\"T_e30ba588_c081_11ea_94b0_2cf05d0a8cfbrow2_col1\" class=\"data row2 col1\" >3</td>\n",
       "                        <td id=\"T_e30ba588_c081_11ea_94b0_2cf05d0a8cfbrow2_col2\" class=\"data row2 col2\" >$4.61</td>\n",
       "                        <td id=\"T_e30ba588_c081_11ea_94b0_2cf05d0a8cfbrow2_col3\" class=\"data row2 col3\" >$13.83</td>\n",
       "            </tr>\n",
       "            <tr>\n",
       "                                <td id=\"T_e30ba588_c081_11ea_94b0_2cf05d0a8cfbrow3_col0\" class=\"data row3 col0\" >Iral74</td>\n",
       "                        <td id=\"T_e30ba588_c081_11ea_94b0_2cf05d0a8cfbrow3_col1\" class=\"data row3 col1\" >4</td>\n",
       "                        <td id=\"T_e30ba588_c081_11ea_94b0_2cf05d0a8cfbrow3_col2\" class=\"data row3 col2\" >$3.40</td>\n",
       "                        <td id=\"T_e30ba588_c081_11ea_94b0_2cf05d0a8cfbrow3_col3\" class=\"data row3 col3\" >$13.62</td>\n",
       "            </tr>\n",
       "            <tr>\n",
       "                                <td id=\"T_e30ba588_c081_11ea_94b0_2cf05d0a8cfbrow4_col0\" class=\"data row4 col0\" >Iskadarya95</td>\n",
       "                        <td id=\"T_e30ba588_c081_11ea_94b0_2cf05d0a8cfbrow4_col1\" class=\"data row4 col1\" >3</td>\n",
       "                        <td id=\"T_e30ba588_c081_11ea_94b0_2cf05d0a8cfbrow4_col2\" class=\"data row4 col2\" >$4.37</td>\n",
       "                        <td id=\"T_e30ba588_c081_11ea_94b0_2cf05d0a8cfbrow4_col3\" class=\"data row4 col3\" >$13.10</td>\n",
       "            </tr>\n",
       "    </tbody></table>"
      ],
      "text/plain": [
       "<pandas.io.formats.style.Styler at 0x23c021be988>"
      ]
     },
     "execution_count": 112,
     "metadata": {},
     "output_type": "execute_result"
    }
   ],
   "source": [
    "# Not too much to comment here. I follow the same process I did above where I groupby and then aggregate the values I need. I flatten the index, rename columns and then the unique\n",
    "# thing here is that I sort by total purchase value. I ran into a troubleshooting issue where when I stringed all of the formatting steps together Jupyter lab kept unsorting\n",
    "# my data. I just renamed and reset the index of the DF after I had sorted which solved the problem. I could have used inplace=True as well but then would need to do more work to\n",
    "# get the index to run from 0 to the end of the set. The readme said to get the top 5 spenders so I hide the index and used .head to display the top 5.\n",
    "\n",
    "top_spenders = purchase_data.groupby('SN').agg({'Purchase ID': 'count', 'Price':['mean', 'sum']}).reset_index()\n",
    "top_spenders.columns = top_spenders.columns = [f\"{x}_{y}\" for x, y in top_spenders.columns.to_flat_index()]\n",
    "top_spenders.rename({'SN_': 'SN', 'Purchase ID_count': 'Purchase Count', 'Price_mean':'Average Purchase Price', 'Price_sum': 'Total Purchase Value'}, axis=1, inplace=True)\n",
    "\n",
    "#Reset the index based on the sorted values. \n",
    "sorted_spenders = top_spenders.sort_values(by='Total Purchase Value', ascending=False).reset_index(drop=True)\n",
    "\n",
    "sorted_spenders['Average Purchase Price'] = sorted_spenders['Average Purchase Price'].map('${:,.2f}'.format)\n",
    "sorted_spenders['Total Purchase Value'] = sorted_spenders['Total Purchase Value'].map('${:,.2f}'.format)\n",
    "\n",
    "sorted_spenders.head(5).style.hide_index()"
   ]
  },
  {
   "cell_type": "markdown",
   "metadata": {},
   "source": [
    "## Most Popular Items"
   ]
  },
  {
   "cell_type": "markdown",
   "metadata": {},
   "source": [
    "* Retrieve the Item ID, Item Name, and Item Price columns\n",
    "\n",
    "\n",
    "* Group by Item ID and Item Name. Perform calculations to obtain purchase count, item price, and total purchase value\n",
    "\n",
    "\n",
    "* Create a summary data frame to hold the results\n",
    "\n",
    "\n",
    "* Sort the purchase count column in descending order\n",
    "\n",
    "\n",
    "* Optional: give the displayed data cleaner formatting\n",
    "\n",
    "\n",
    "* Display a preview of the summary data frame\n",
    "\n"
   ]
  },
  {
   "cell_type": "code",
   "execution_count": 21,
   "metadata": {},
   "outputs": [
    {
     "data": {
      "text/html": [
       "<style  type=\"text/css\" >\n",
       "</style><table id=\"T_49d84dc0_c06d_11ea_a85d_2cf05d0a8cfb\" ><thead>    <tr>        <th class=\"col_heading level0 col0\" >Item ID</th>        <th class=\"col_heading level0 col1\" >Item Name</th>        <th class=\"col_heading level0 col2\" >Purchase ID</th>        <th class=\"col_heading level0 col3\" >Item Price</th>        <th class=\"col_heading level0 col4\" >Total Purchase Value</th>    </tr></thead><tbody>\n",
       "                <tr>\n",
       "                                <td id=\"T_49d84dc0_c06d_11ea_a85d_2cf05d0a8cfbrow0_col0\" class=\"data row0 col0\" >92</td>\n",
       "                        <td id=\"T_49d84dc0_c06d_11ea_a85d_2cf05d0a8cfbrow0_col1\" class=\"data row0 col1\" >Final Critic</td>\n",
       "                        <td id=\"T_49d84dc0_c06d_11ea_a85d_2cf05d0a8cfbrow0_col2\" class=\"data row0 col2\" >13</td>\n",
       "                        <td id=\"T_49d84dc0_c06d_11ea_a85d_2cf05d0a8cfbrow0_col3\" class=\"data row0 col3\" >$4.61</td>\n",
       "                        <td id=\"T_49d84dc0_c06d_11ea_a85d_2cf05d0a8cfbrow0_col4\" class=\"data row0 col4\" >$59.99</td>\n",
       "            </tr>\n",
       "            <tr>\n",
       "                                <td id=\"T_49d84dc0_c06d_11ea_a85d_2cf05d0a8cfbrow1_col0\" class=\"data row1 col0\" >178</td>\n",
       "                        <td id=\"T_49d84dc0_c06d_11ea_a85d_2cf05d0a8cfbrow1_col1\" class=\"data row1 col1\" >Oathbreaker, Last Hope of the Breaking Storm</td>\n",
       "                        <td id=\"T_49d84dc0_c06d_11ea_a85d_2cf05d0a8cfbrow1_col2\" class=\"data row1 col2\" >12</td>\n",
       "                        <td id=\"T_49d84dc0_c06d_11ea_a85d_2cf05d0a8cfbrow1_col3\" class=\"data row1 col3\" >$4.23</td>\n",
       "                        <td id=\"T_49d84dc0_c06d_11ea_a85d_2cf05d0a8cfbrow1_col4\" class=\"data row1 col4\" >$50.76</td>\n",
       "            </tr>\n",
       "            <tr>\n",
       "                                <td id=\"T_49d84dc0_c06d_11ea_a85d_2cf05d0a8cfbrow2_col0\" class=\"data row2 col0\" >145</td>\n",
       "                        <td id=\"T_49d84dc0_c06d_11ea_a85d_2cf05d0a8cfbrow2_col1\" class=\"data row2 col1\" >Fiery Glass Crusader</td>\n",
       "                        <td id=\"T_49d84dc0_c06d_11ea_a85d_2cf05d0a8cfbrow2_col2\" class=\"data row2 col2\" >9</td>\n",
       "                        <td id=\"T_49d84dc0_c06d_11ea_a85d_2cf05d0a8cfbrow2_col3\" class=\"data row2 col3\" >$4.58</td>\n",
       "                        <td id=\"T_49d84dc0_c06d_11ea_a85d_2cf05d0a8cfbrow2_col4\" class=\"data row2 col4\" >$41.22</td>\n",
       "            </tr>\n",
       "            <tr>\n",
       "                                <td id=\"T_49d84dc0_c06d_11ea_a85d_2cf05d0a8cfbrow3_col0\" class=\"data row3 col0\" >132</td>\n",
       "                        <td id=\"T_49d84dc0_c06d_11ea_a85d_2cf05d0a8cfbrow3_col1\" class=\"data row3 col1\" >Persuasion</td>\n",
       "                        <td id=\"T_49d84dc0_c06d_11ea_a85d_2cf05d0a8cfbrow3_col2\" class=\"data row3 col2\" >9</td>\n",
       "                        <td id=\"T_49d84dc0_c06d_11ea_a85d_2cf05d0a8cfbrow3_col3\" class=\"data row3 col3\" >$3.22</td>\n",
       "                        <td id=\"T_49d84dc0_c06d_11ea_a85d_2cf05d0a8cfbrow3_col4\" class=\"data row3 col4\" >$28.99</td>\n",
       "            </tr>\n",
       "            <tr>\n",
       "                                <td id=\"T_49d84dc0_c06d_11ea_a85d_2cf05d0a8cfbrow4_col0\" class=\"data row4 col0\" >108</td>\n",
       "                        <td id=\"T_49d84dc0_c06d_11ea_a85d_2cf05d0a8cfbrow4_col1\" class=\"data row4 col1\" >Extraction, Quickblade Of Trembling Hands</td>\n",
       "                        <td id=\"T_49d84dc0_c06d_11ea_a85d_2cf05d0a8cfbrow4_col2\" class=\"data row4 col2\" >9</td>\n",
       "                        <td id=\"T_49d84dc0_c06d_11ea_a85d_2cf05d0a8cfbrow4_col3\" class=\"data row4 col3\" >$3.53</td>\n",
       "                        <td id=\"T_49d84dc0_c06d_11ea_a85d_2cf05d0a8cfbrow4_col4\" class=\"data row4 col4\" >$31.77</td>\n",
       "            </tr>\n",
       "    </tbody></table>"
      ],
      "text/plain": [
       "<pandas.io.formats.style.Styler at 0x23c00fe5b48>"
      ]
     },
     "execution_count": 21,
     "metadata": {},
     "output_type": "execute_result"
    }
   ],
   "source": [
    "# This section is just a rinse and repeat of the Top Spenders, but sorts by item purchase count. There is one caveat. I scanned the data and noticed that the item price varied\n",
    "# somewhat. For instance, Final Critic is listed at $4.88 and $4.19. The homework example just listed an average of these prices. I assume these items went on sale so the data could\n",
    "# have been parsed by sale price as well because the 'Item Price' here just gives the average price if there are multiple prices. \n",
    "\n",
    "popular_items = purchase_data.groupby(['Item ID', 'Item Name']).agg({\"Purchase ID\": 'count', 'Price': ['mean', 'sum']}).reset_index()\n",
    "popular_items.columns = popular_items.columns = [f\"{x}_{y}\" for x, y in popular_items.columns.to_flat_index()]\n",
    "\n",
    "item_popularity = popular_items.sort_values(by='Purchase ID_count', ascending=False).reset_index(drop=True)\n",
    "\n",
    "item_popularity.rename({'Item ID_': 'Item ID', \"Item Name_\": \"Item Name\", \"Purchase ID_count\": \"Purchase ID\", \"Price_mean\": \"Item Price\", \n",
    "                        \"Price_sum\": \"Total Purchase Value\"}, axis=1, inplace=True)\n",
    "item_popularity['Item Price'] = item_popularity['Item Price'].map('${:,.2f}'.format)\n",
    "item_popularity['Total Purchase Value'] = item_popularity['Total Purchase Value'].map('${:,.2f}'.format)\n",
    "item_popularity.head(5).style.hide_index()\n"
   ]
  },
  {
   "cell_type": "markdown",
   "metadata": {},
   "source": [
    "## Most Profitable Items"
   ]
  },
  {
   "cell_type": "markdown",
   "metadata": {},
   "source": [
    "* Sort the above table by total purchase value in descending order\n",
    "\n",
    "\n",
    "* Optional: give the displayed data cleaner formatting\n",
    "\n",
    "\n",
    "* Display a preview of the data frame\n",
    "\n"
   ]
  },
  {
   "cell_type": "code",
   "execution_count": 9,
   "metadata": {
    "scrolled": true
   },
   "outputs": [
    {
     "data": {
      "text/html": [
       "<style  type=\"text/css\" >\n",
       "</style><table id=\"T_7ca883c0_c06b_11ea_b3a7_2cf05d0a8cfb\" ><thead>    <tr>        <th class=\"col_heading level0 col0\" >Item Id</th>        <th class=\"col_heading level0 col1\" >Item Name</th>        <th class=\"col_heading level0 col2\" >Purchase ID</th>        <th class=\"col_heading level0 col3\" >Item Price</th>        <th class=\"col_heading level0 col4\" >Total Purchase Value</th>    </tr></thead><tbody>\n",
       "                <tr>\n",
       "                                <td id=\"T_7ca883c0_c06b_11ea_b3a7_2cf05d0a8cfbrow0_col0\" class=\"data row0 col0\" >92</td>\n",
       "                        <td id=\"T_7ca883c0_c06b_11ea_b3a7_2cf05d0a8cfbrow0_col1\" class=\"data row0 col1\" >Final Critic</td>\n",
       "                        <td id=\"T_7ca883c0_c06b_11ea_b3a7_2cf05d0a8cfbrow0_col2\" class=\"data row0 col2\" >13</td>\n",
       "                        <td id=\"T_7ca883c0_c06b_11ea_b3a7_2cf05d0a8cfbrow0_col3\" class=\"data row0 col3\" >$4.61</td>\n",
       "                        <td id=\"T_7ca883c0_c06b_11ea_b3a7_2cf05d0a8cfbrow0_col4\" class=\"data row0 col4\" >$59.99</td>\n",
       "            </tr>\n",
       "            <tr>\n",
       "                                <td id=\"T_7ca883c0_c06b_11ea_b3a7_2cf05d0a8cfbrow1_col0\" class=\"data row1 col0\" >178</td>\n",
       "                        <td id=\"T_7ca883c0_c06b_11ea_b3a7_2cf05d0a8cfbrow1_col1\" class=\"data row1 col1\" >Oathbreaker, Last Hope of the Breaking Storm</td>\n",
       "                        <td id=\"T_7ca883c0_c06b_11ea_b3a7_2cf05d0a8cfbrow1_col2\" class=\"data row1 col2\" >12</td>\n",
       "                        <td id=\"T_7ca883c0_c06b_11ea_b3a7_2cf05d0a8cfbrow1_col3\" class=\"data row1 col3\" >$4.23</td>\n",
       "                        <td id=\"T_7ca883c0_c06b_11ea_b3a7_2cf05d0a8cfbrow1_col4\" class=\"data row1 col4\" >$50.76</td>\n",
       "            </tr>\n",
       "            <tr>\n",
       "                                <td id=\"T_7ca883c0_c06b_11ea_b3a7_2cf05d0a8cfbrow2_col0\" class=\"data row2 col0\" >82</td>\n",
       "                        <td id=\"T_7ca883c0_c06b_11ea_b3a7_2cf05d0a8cfbrow2_col1\" class=\"data row2 col1\" >Nirvana</td>\n",
       "                        <td id=\"T_7ca883c0_c06b_11ea_b3a7_2cf05d0a8cfbrow2_col2\" class=\"data row2 col2\" >9</td>\n",
       "                        <td id=\"T_7ca883c0_c06b_11ea_b3a7_2cf05d0a8cfbrow2_col3\" class=\"data row2 col3\" >$4.90</td>\n",
       "                        <td id=\"T_7ca883c0_c06b_11ea_b3a7_2cf05d0a8cfbrow2_col4\" class=\"data row2 col4\" >$44.10</td>\n",
       "            </tr>\n",
       "            <tr>\n",
       "                                <td id=\"T_7ca883c0_c06b_11ea_b3a7_2cf05d0a8cfbrow3_col0\" class=\"data row3 col0\" >145</td>\n",
       "                        <td id=\"T_7ca883c0_c06b_11ea_b3a7_2cf05d0a8cfbrow3_col1\" class=\"data row3 col1\" >Fiery Glass Crusader</td>\n",
       "                        <td id=\"T_7ca883c0_c06b_11ea_b3a7_2cf05d0a8cfbrow3_col2\" class=\"data row3 col2\" >9</td>\n",
       "                        <td id=\"T_7ca883c0_c06b_11ea_b3a7_2cf05d0a8cfbrow3_col3\" class=\"data row3 col3\" >$4.58</td>\n",
       "                        <td id=\"T_7ca883c0_c06b_11ea_b3a7_2cf05d0a8cfbrow3_col4\" class=\"data row3 col4\" >$41.22</td>\n",
       "            </tr>\n",
       "            <tr>\n",
       "                                <td id=\"T_7ca883c0_c06b_11ea_b3a7_2cf05d0a8cfbrow4_col0\" class=\"data row4 col0\" >103</td>\n",
       "                        <td id=\"T_7ca883c0_c06b_11ea_b3a7_2cf05d0a8cfbrow4_col1\" class=\"data row4 col1\" >Singed Scalpel</td>\n",
       "                        <td id=\"T_7ca883c0_c06b_11ea_b3a7_2cf05d0a8cfbrow4_col2\" class=\"data row4 col2\" >8</td>\n",
       "                        <td id=\"T_7ca883c0_c06b_11ea_b3a7_2cf05d0a8cfbrow4_col3\" class=\"data row4 col3\" >$4.35</td>\n",
       "                        <td id=\"T_7ca883c0_c06b_11ea_b3a7_2cf05d0a8cfbrow4_col4\" class=\"data row4 col4\" >$34.80</td>\n",
       "            </tr>\n",
       "    </tbody></table>"
      ],
      "text/plain": [
       "<pandas.io.formats.style.Styler at 0x23c00d4a488>"
      ]
     },
     "execution_count": 9,
     "metadata": {},
     "output_type": "execute_result"
    }
   ],
   "source": [
    "# This section is even easier since we calculated item popularity already. We simply need to sort by Total Purchase Value instead of Purchase Count and then do the same formatting.\n",
    "\n",
    "item_profit = popular_items.sort_values(by='Price_sum', ascending=False).reset_index(drop=True)\n",
    "\n",
    "item_profit.rename({'Item ID_': 'Item Id', \"Item Name_\": \"Item Name\", \"Purchase ID_count\": \"Purchase ID\", \"Price_mean\": \"Item Price\", \n",
    "                        \"Price_sum\": \"Total Purchase Value\"}, axis=1, inplace=True)\n",
    "item_profit['Item Price'] = item_profit['Item Price'].map('${:,.2f}'.format)\n",
    "item_profit['Total Purchase Value'] = item_profit['Total Purchase Value'].map('${:,.2f}'.format)\n",
    "item_profit.head(5).style.hide_index()"
   ]
  },
  {
   "cell_type": "code",
   "execution_count": null,
   "metadata": {},
   "outputs": [],
   "source": []
  }
 ],
 "metadata": {
  "anaconda-cloud": {},
  "kernel_info": {
   "name": "python3"
  },
  "kernelspec": {
   "display_name": "Python 3",
   "language": "python",
   "name": "python3"
  },
  "language_info": {
   "codemirror_mode": {
    "name": "ipython",
    "version": 3
   },
   "file_extension": ".py",
   "mimetype": "text/x-python",
   "name": "python",
   "nbconvert_exporter": "python",
   "pygments_lexer": "ipython3",
   "version": "3.7.6"
  },
  "latex_envs": {
   "LaTeX_envs_menu_present": true,
   "autoclose": false,
   "autocomplete": true,
   "bibliofile": "biblio.bib",
   "cite_by": "apalike",
   "current_citInitial": 1,
   "eqLabelWithNumbers": true,
   "eqNumInitial": 1,
   "hotkeys": {
    "equation": "Ctrl-E",
    "itemize": "Ctrl-I"
   },
   "labels_anchors": false,
   "latex_user_defs": false,
   "report_style_numbering": false,
   "user_envs_cfg": false
  },
  "nteract": {
   "version": "0.2.0"
  }
 },
 "nbformat": 4,
 "nbformat_minor": 4
}
